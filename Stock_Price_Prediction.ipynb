{
  "nbformat": 4,
  "nbformat_minor": 0,
  "metadata": {
    "colab": {
      "provenance": [],
      "gpuType": "T4",
      "authorship_tag": "ABX9TyMxw5PYgZlIM87PltXSHUOm",
      "include_colab_link": true
    },
    "kernelspec": {
      "name": "python3",
      "display_name": "Python 3"
    },
    "language_info": {
      "name": "python"
    },
    "accelerator": "GPU"
  },
  "cells": [
    {
      "cell_type": "markdown",
      "metadata": {
        "id": "view-in-github",
        "colab_type": "text"
      },
      "source": [
        "<a href=\"https://colab.research.google.com/github/nvinay1303/stock_price_prediction/blob/main/Stock_Price_Prediction.ipynb\" target=\"_parent\"><img src=\"https://colab.research.google.com/assets/colab-badge.svg\" alt=\"Open In Colab\"/></a>"
      ]
    },
    {
      "cell_type": "code",
      "execution_count": null,
      "metadata": {
        "id": "QeP1wMUG58FL"
      },
      "outputs": [],
      "source": [
        "import pandas as pd\n",
        "import numpy as np\n",
        "import matplotlib.pyplot as plt\n",
        "import seaborn as sns"
      ]
    },
    {
      "cell_type": "code",
      "source": [
        "df = pd.read_csv('/content/KOTAK_BANK_DAILY_2001-2024.csv')"
      ],
      "metadata": {
        "id": "kkRqF3Sv8QrU"
      },
      "execution_count": null,
      "outputs": []
    },
    {
      "cell_type": "code",
      "source": [
        "df.head()"
      ],
      "metadata": {
        "colab": {
          "base_uri": "https://localhost:8080/",
          "height": 206
        },
        "id": "TmudXmBH9Wss",
        "outputId": "fb2cec1c-914b-43b7-a0fa-8f349fccb147"
      },
      "execution_count": null,
      "outputs": [
        {
          "output_type": "execute_result",
          "data": {
            "text/plain": [
              "       Date    Open    High     Low   Close  Adj Close    Volume\n",
              "0  02/07/01  2.4025  2.4750  2.4000  2.4025   2.223229  110800.0\n",
              "1  03/07/01  2.4750  2.4750  2.3750  2.4000   2.220917   77520.0\n",
              "2  04/07/01  2.4250  2.4500  2.3875  2.4200   2.239424   49360.0\n",
              "3  05/07/01  2.4500  2.4725  2.4000  2.4150   2.234797   62700.0\n",
              "4  06/07/01  2.4250  2.4250  2.3500  2.4000   2.220917  117800.0"
            ],
            "text/html": [
              "\n",
              "  <div id=\"df-f17e9256-f87b-425f-9658-afeb4fc54ee7\" class=\"colab-df-container\">\n",
              "    <div>\n",
              "<style scoped>\n",
              "    .dataframe tbody tr th:only-of-type {\n",
              "        vertical-align: middle;\n",
              "    }\n",
              "\n",
              "    .dataframe tbody tr th {\n",
              "        vertical-align: top;\n",
              "    }\n",
              "\n",
              "    .dataframe thead th {\n",
              "        text-align: right;\n",
              "    }\n",
              "</style>\n",
              "<table border=\"1\" class=\"dataframe\">\n",
              "  <thead>\n",
              "    <tr style=\"text-align: right;\">\n",
              "      <th></th>\n",
              "      <th>Date</th>\n",
              "      <th>Open</th>\n",
              "      <th>High</th>\n",
              "      <th>Low</th>\n",
              "      <th>Close</th>\n",
              "      <th>Adj Close</th>\n",
              "      <th>Volume</th>\n",
              "    </tr>\n",
              "  </thead>\n",
              "  <tbody>\n",
              "    <tr>\n",
              "      <th>0</th>\n",
              "      <td>02/07/01</td>\n",
              "      <td>2.4025</td>\n",
              "      <td>2.4750</td>\n",
              "      <td>2.4000</td>\n",
              "      <td>2.4025</td>\n",
              "      <td>2.223229</td>\n",
              "      <td>110800.0</td>\n",
              "    </tr>\n",
              "    <tr>\n",
              "      <th>1</th>\n",
              "      <td>03/07/01</td>\n",
              "      <td>2.4750</td>\n",
              "      <td>2.4750</td>\n",
              "      <td>2.3750</td>\n",
              "      <td>2.4000</td>\n",
              "      <td>2.220917</td>\n",
              "      <td>77520.0</td>\n",
              "    </tr>\n",
              "    <tr>\n",
              "      <th>2</th>\n",
              "      <td>04/07/01</td>\n",
              "      <td>2.4250</td>\n",
              "      <td>2.4500</td>\n",
              "      <td>2.3875</td>\n",
              "      <td>2.4200</td>\n",
              "      <td>2.239424</td>\n",
              "      <td>49360.0</td>\n",
              "    </tr>\n",
              "    <tr>\n",
              "      <th>3</th>\n",
              "      <td>05/07/01</td>\n",
              "      <td>2.4500</td>\n",
              "      <td>2.4725</td>\n",
              "      <td>2.4000</td>\n",
              "      <td>2.4150</td>\n",
              "      <td>2.234797</td>\n",
              "      <td>62700.0</td>\n",
              "    </tr>\n",
              "    <tr>\n",
              "      <th>4</th>\n",
              "      <td>06/07/01</td>\n",
              "      <td>2.4250</td>\n",
              "      <td>2.4250</td>\n",
              "      <td>2.3500</td>\n",
              "      <td>2.4000</td>\n",
              "      <td>2.220917</td>\n",
              "      <td>117800.0</td>\n",
              "    </tr>\n",
              "  </tbody>\n",
              "</table>\n",
              "</div>\n",
              "    <div class=\"colab-df-buttons\">\n",
              "\n",
              "  <div class=\"colab-df-container\">\n",
              "    <button class=\"colab-df-convert\" onclick=\"convertToInteractive('df-f17e9256-f87b-425f-9658-afeb4fc54ee7')\"\n",
              "            title=\"Convert this dataframe to an interactive table.\"\n",
              "            style=\"display:none;\">\n",
              "\n",
              "  <svg xmlns=\"http://www.w3.org/2000/svg\" height=\"24px\" viewBox=\"0 -960 960 960\">\n",
              "    <path d=\"M120-120v-720h720v720H120Zm60-500h600v-160H180v160Zm220 220h160v-160H400v160Zm0 220h160v-160H400v160ZM180-400h160v-160H180v160Zm440 0h160v-160H620v160ZM180-180h160v-160H180v160Zm440 0h160v-160H620v160Z\"/>\n",
              "  </svg>\n",
              "    </button>\n",
              "\n",
              "  <style>\n",
              "    .colab-df-container {\n",
              "      display:flex;\n",
              "      gap: 12px;\n",
              "    }\n",
              "\n",
              "    .colab-df-convert {\n",
              "      background-color: #E8F0FE;\n",
              "      border: none;\n",
              "      border-radius: 50%;\n",
              "      cursor: pointer;\n",
              "      display: none;\n",
              "      fill: #1967D2;\n",
              "      height: 32px;\n",
              "      padding: 0 0 0 0;\n",
              "      width: 32px;\n",
              "    }\n",
              "\n",
              "    .colab-df-convert:hover {\n",
              "      background-color: #E2EBFA;\n",
              "      box-shadow: 0px 1px 2px rgba(60, 64, 67, 0.3), 0px 1px 3px 1px rgba(60, 64, 67, 0.15);\n",
              "      fill: #174EA6;\n",
              "    }\n",
              "\n",
              "    .colab-df-buttons div {\n",
              "      margin-bottom: 4px;\n",
              "    }\n",
              "\n",
              "    [theme=dark] .colab-df-convert {\n",
              "      background-color: #3B4455;\n",
              "      fill: #D2E3FC;\n",
              "    }\n",
              "\n",
              "    [theme=dark] .colab-df-convert:hover {\n",
              "      background-color: #434B5C;\n",
              "      box-shadow: 0px 1px 3px 1px rgba(0, 0, 0, 0.15);\n",
              "      filter: drop-shadow(0px 1px 2px rgba(0, 0, 0, 0.3));\n",
              "      fill: #FFFFFF;\n",
              "    }\n",
              "  </style>\n",
              "\n",
              "    <script>\n",
              "      const buttonEl =\n",
              "        document.querySelector('#df-f17e9256-f87b-425f-9658-afeb4fc54ee7 button.colab-df-convert');\n",
              "      buttonEl.style.display =\n",
              "        google.colab.kernel.accessAllowed ? 'block' : 'none';\n",
              "\n",
              "      async function convertToInteractive(key) {\n",
              "        const element = document.querySelector('#df-f17e9256-f87b-425f-9658-afeb4fc54ee7');\n",
              "        const dataTable =\n",
              "          await google.colab.kernel.invokeFunction('convertToInteractive',\n",
              "                                                    [key], {});\n",
              "        if (!dataTable) return;\n",
              "\n",
              "        const docLinkHtml = 'Like what you see? Visit the ' +\n",
              "          '<a target=\"_blank\" href=https://colab.research.google.com/notebooks/data_table.ipynb>data table notebook</a>'\n",
              "          + ' to learn more about interactive tables.';\n",
              "        element.innerHTML = '';\n",
              "        dataTable['output_type'] = 'display_data';\n",
              "        await google.colab.output.renderOutput(dataTable, element);\n",
              "        const docLink = document.createElement('div');\n",
              "        docLink.innerHTML = docLinkHtml;\n",
              "        element.appendChild(docLink);\n",
              "      }\n",
              "    </script>\n",
              "  </div>\n",
              "\n",
              "\n",
              "<div id=\"df-5a25b161-55b7-43c8-8c67-fb5451f4b506\">\n",
              "  <button class=\"colab-df-quickchart\" onclick=\"quickchart('df-5a25b161-55b7-43c8-8c67-fb5451f4b506')\"\n",
              "            title=\"Suggest charts\"\n",
              "            style=\"display:none;\">\n",
              "\n",
              "<svg xmlns=\"http://www.w3.org/2000/svg\" height=\"24px\"viewBox=\"0 0 24 24\"\n",
              "     width=\"24px\">\n",
              "    <g>\n",
              "        <path d=\"M19 3H5c-1.1 0-2 .9-2 2v14c0 1.1.9 2 2 2h14c1.1 0 2-.9 2-2V5c0-1.1-.9-2-2-2zM9 17H7v-7h2v7zm4 0h-2V7h2v10zm4 0h-2v-4h2v4z\"/>\n",
              "    </g>\n",
              "</svg>\n",
              "  </button>\n",
              "\n",
              "<style>\n",
              "  .colab-df-quickchart {\n",
              "      --bg-color: #E8F0FE;\n",
              "      --fill-color: #1967D2;\n",
              "      --hover-bg-color: #E2EBFA;\n",
              "      --hover-fill-color: #174EA6;\n",
              "      --disabled-fill-color: #AAA;\n",
              "      --disabled-bg-color: #DDD;\n",
              "  }\n",
              "\n",
              "  [theme=dark] .colab-df-quickchart {\n",
              "      --bg-color: #3B4455;\n",
              "      --fill-color: #D2E3FC;\n",
              "      --hover-bg-color: #434B5C;\n",
              "      --hover-fill-color: #FFFFFF;\n",
              "      --disabled-bg-color: #3B4455;\n",
              "      --disabled-fill-color: #666;\n",
              "  }\n",
              "\n",
              "  .colab-df-quickchart {\n",
              "    background-color: var(--bg-color);\n",
              "    border: none;\n",
              "    border-radius: 50%;\n",
              "    cursor: pointer;\n",
              "    display: none;\n",
              "    fill: var(--fill-color);\n",
              "    height: 32px;\n",
              "    padding: 0;\n",
              "    width: 32px;\n",
              "  }\n",
              "\n",
              "  .colab-df-quickchart:hover {\n",
              "    background-color: var(--hover-bg-color);\n",
              "    box-shadow: 0 1px 2px rgba(60, 64, 67, 0.3), 0 1px 3px 1px rgba(60, 64, 67, 0.15);\n",
              "    fill: var(--button-hover-fill-color);\n",
              "  }\n",
              "\n",
              "  .colab-df-quickchart-complete:disabled,\n",
              "  .colab-df-quickchart-complete:disabled:hover {\n",
              "    background-color: var(--disabled-bg-color);\n",
              "    fill: var(--disabled-fill-color);\n",
              "    box-shadow: none;\n",
              "  }\n",
              "\n",
              "  .colab-df-spinner {\n",
              "    border: 2px solid var(--fill-color);\n",
              "    border-color: transparent;\n",
              "    border-bottom-color: var(--fill-color);\n",
              "    animation:\n",
              "      spin 1s steps(1) infinite;\n",
              "  }\n",
              "\n",
              "  @keyframes spin {\n",
              "    0% {\n",
              "      border-color: transparent;\n",
              "      border-bottom-color: var(--fill-color);\n",
              "      border-left-color: var(--fill-color);\n",
              "    }\n",
              "    20% {\n",
              "      border-color: transparent;\n",
              "      border-left-color: var(--fill-color);\n",
              "      border-top-color: var(--fill-color);\n",
              "    }\n",
              "    30% {\n",
              "      border-color: transparent;\n",
              "      border-left-color: var(--fill-color);\n",
              "      border-top-color: var(--fill-color);\n",
              "      border-right-color: var(--fill-color);\n",
              "    }\n",
              "    40% {\n",
              "      border-color: transparent;\n",
              "      border-right-color: var(--fill-color);\n",
              "      border-top-color: var(--fill-color);\n",
              "    }\n",
              "    60% {\n",
              "      border-color: transparent;\n",
              "      border-right-color: var(--fill-color);\n",
              "    }\n",
              "    80% {\n",
              "      border-color: transparent;\n",
              "      border-right-color: var(--fill-color);\n",
              "      border-bottom-color: var(--fill-color);\n",
              "    }\n",
              "    90% {\n",
              "      border-color: transparent;\n",
              "      border-bottom-color: var(--fill-color);\n",
              "    }\n",
              "  }\n",
              "</style>\n",
              "\n",
              "  <script>\n",
              "    async function quickchart(key) {\n",
              "      const quickchartButtonEl =\n",
              "        document.querySelector('#' + key + ' button');\n",
              "      quickchartButtonEl.disabled = true;  // To prevent multiple clicks.\n",
              "      quickchartButtonEl.classList.add('colab-df-spinner');\n",
              "      try {\n",
              "        const charts = await google.colab.kernel.invokeFunction(\n",
              "            'suggestCharts', [key], {});\n",
              "      } catch (error) {\n",
              "        console.error('Error during call to suggestCharts:', error);\n",
              "      }\n",
              "      quickchartButtonEl.classList.remove('colab-df-spinner');\n",
              "      quickchartButtonEl.classList.add('colab-df-quickchart-complete');\n",
              "    }\n",
              "    (() => {\n",
              "      let quickchartButtonEl =\n",
              "        document.querySelector('#df-5a25b161-55b7-43c8-8c67-fb5451f4b506 button');\n",
              "      quickchartButtonEl.style.display =\n",
              "        google.colab.kernel.accessAllowed ? 'block' : 'none';\n",
              "    })();\n",
              "  </script>\n",
              "</div>\n",
              "\n",
              "    </div>\n",
              "  </div>\n"
            ],
            "application/vnd.google.colaboratory.intrinsic+json": {
              "type": "dataframe",
              "variable_name": "df",
              "summary": "{\n  \"name\": \"df\",\n  \"rows\": 5670,\n  \"fields\": [\n    {\n      \"column\": \"Date\",\n      \"properties\": {\n        \"dtype\": \"object\",\n        \"num_unique_values\": 5670,\n        \"samples\": [\n          \"27/07/15\",\n          \"10/05/17\",\n          \"21/10/08\"\n        ],\n        \"semantic_type\": \"\",\n        \"description\": \"\"\n      }\n    },\n    {\n      \"column\": \"Open\",\n      \"properties\": {\n        \"dtype\": \"number\",\n        \"std\": 658.0371289214322,\n        \"min\": 1.3475,\n        \"max\": 2200.0,\n        \"num_unique_values\": 4270,\n        \"samples\": [\n          252.300003,\n          207.5,\n          7.3125\n        ],\n        \"semantic_type\": \"\",\n        \"description\": \"\"\n      }\n    },\n    {\n      \"column\": \"High\",\n      \"properties\": {\n        \"dtype\": \"number\",\n        \"std\": 664.4407501918325,\n        \"min\": 1.5,\n        \"max\": 2253.0,\n        \"num_unique_values\": 4642,\n        \"samples\": [\n          90.0,\n          245.475006,\n          704.25\n        ],\n        \"semantic_type\": \"\",\n        \"description\": \"\"\n      }\n    },\n    {\n      \"column\": \"Low\",\n      \"properties\": {\n        \"dtype\": \"number\",\n        \"std\": 650.7851783033212,\n        \"min\": 1.3,\n        \"max\": 2176.600098,\n        \"num_unique_values\": 4776,\n        \"samples\": [\n          2.0,\n          17.497499,\n          547.049988\n        ],\n        \"semantic_type\": \"\",\n        \"description\": \"\"\n      }\n    },\n    {\n      \"column\": \"Close\",\n      \"properties\": {\n        \"dtype\": \"number\",\n        \"std\": 657.6957740563896,\n        \"min\": 1.365,\n        \"max\": 2210.949951,\n        \"num_unique_values\": 5228,\n        \"samples\": [\n          361.674988,\n          728.650024,\n          1754.75\n        ],\n        \"semantic_type\": \"\",\n        \"description\": \"\"\n      }\n    },\n    {\n      \"column\": \"Adj Close\",\n      \"properties\": {\n        \"dtype\": \"number\",\n        \"std\": 657.1633327308726,\n        \"min\": 1.263146,\n        \"max\": 2207.801758,\n        \"num_unique_values\": 5385,\n        \"samples\": [\n          1380.991699,\n          96.002396,\n          182.64888\n        ],\n        \"semantic_type\": \"\",\n        \"description\": \"\"\n      }\n    },\n    {\n      \"column\": \"Volume\",\n      \"properties\": {\n        \"dtype\": \"number\",\n        \"std\": 3389827.573322667,\n        \"min\": 0.0,\n        \"max\": 88598126.0,\n        \"num_unique_values\": 5610,\n        \"samples\": [\n          520780.0,\n          1333954.0,\n          2073628.0\n        ],\n        \"semantic_type\": \"\",\n        \"description\": \"\"\n      }\n    }\n  ]\n}"
            }
          },
          "metadata": {},
          "execution_count": 3
        }
      ]
    },
    {
      "cell_type": "code",
      "source": [
        "# We use the Close column for carrying out the stock price prediction for Kotak Bank\n",
        "df1 = df['Close']"
      ],
      "metadata": {
        "id": "cJwjSlZP97Qf"
      },
      "execution_count": null,
      "outputs": []
    },
    {
      "cell_type": "code",
      "source": [
        "#Checking for Null rows\n",
        "df1[df1.isnull() == True]"
      ],
      "metadata": {
        "colab": {
          "base_uri": "https://localhost:8080/"
        },
        "id": "TIh42pWjFwnw",
        "outputId": "68517162-1401-4a60-f80f-c5d300b7a461"
      },
      "execution_count": null,
      "outputs": [
        {
          "output_type": "execute_result",
          "data": {
            "text/plain": [
              "465    NaN\n",
              "2173   NaN\n",
              "2651   NaN\n",
              "2690   NaN\n",
              "2820   NaN\n",
              "2862   NaN\n",
              "3199   NaN\n",
              "3428   NaN\n",
              "Name: Close, dtype: float64"
            ]
          },
          "metadata": {},
          "execution_count": 5
        }
      ]
    },
    {
      "cell_type": "code",
      "source": [
        "df1.dropna(axis=0,inplace=True)"
      ],
      "metadata": {
        "id": "Oafir0OkTR7y"
      },
      "execution_count": null,
      "outputs": []
    },
    {
      "cell_type": "code",
      "source": [
        "df1=df1[5300:5670]"
      ],
      "metadata": {
        "id": "xEht1n4Npm0A"
      },
      "execution_count": null,
      "outputs": []
    },
    {
      "cell_type": "code",
      "source": [
        "plt.plot(df1)\n",
        "plt.title(\"Kotak Bank Stock Price (2001-2024)\")\n",
        "plt.xlabel('Date')"
      ],
      "metadata": {
        "colab": {
          "base_uri": "https://localhost:8080/",
          "height": 490
        },
        "id": "Db-lU7Iw_yu0",
        "outputId": "207d10bd-be4c-494b-ea9a-7d790380fd54"
      },
      "execution_count": null,
      "outputs": [
        {
          "output_type": "execute_result",
          "data": {
            "text/plain": [
              "Text(0.5, 0, 'Date')"
            ]
          },
          "metadata": {},
          "execution_count": 8
        },
        {
          "output_type": "display_data",
          "data": {
            "text/plain": [
              "<Figure size 640x480 with 1 Axes>"
            ],
            "image/png": "[encoded data removed]"
          },
          "metadata": {}
        }
      ]
    },
    {
      "cell_type": "code",
      "source": [
        "# LSTM is sensitive to the scale of data. So we use min-max scaler to normalize the data between 0 and 1\n",
        "\n",
        "from sklearn.preprocessing import MinMaxScaler\n",
        "scaler = MinMaxScaler(feature_range=(0,1))\n",
        "df1 = scaler.fit_transform(np.array(df1).reshape(-1,1))"
      ],
      "metadata": {
        "id": "wNoi-dr-da-e"
      },
      "execution_count": null,
      "outputs": []
    },
    {
      "cell_type": "code",
      "source": [
        "# Split the dataset into train and test sets\n",
        "\n",
        "train_size = int(0.65*len(df1))\n",
        "test_size = len(df1)-train_size\n",
        "train_data,test_data = df1[0:train_size,:],df1[train_size:len(df),:]"
      ],
      "metadata": {
        "id": "L8n7gRGpl2EG"
      },
      "execution_count": null,
      "outputs": []
    },
    {
      "cell_type": "code",
      "source": [
        "train_data,test_data"
      ],
      "metadata": {
        "colab": {
          "base_uri": "https://localhost:8080/"
        },
        "id": "wr8vK_QVpHcB",
        "outputId": "0e7a5086-bc3e-4256-f2dd-af223bb0df7e"
      },
      "execution_count": null,
      "outputs": [
        {
          "output_type": "execute_result",
          "data": {
            "text/plain": [
              "(array([[0.38145325],\n",
              "        [0.44236537],\n",
              "        [0.4186015 ],\n",
              "        [0.50737507],\n",
              "        [0.57334072],\n",
              "        [0.57757434],\n",
              "        [0.60393333],\n",
              "        [0.58809086],\n",
              "        [0.69489222],\n",
              "        [0.67618155],\n",
              "        [0.54179183],\n",
              "        [0.59205139],\n",
              "        [0.64463266],\n",
              "        [0.69297997],\n",
              "        [0.71278331],\n",
              "        [0.71483193],\n",
              "        [0.68806348],\n",
              "        [0.68751698],\n",
              "        [0.64012563],\n",
              "        [0.66962589],\n",
              "        [0.72084141],\n",
              "        [0.68519528],\n",
              "        [0.7499319 ],\n",
              "        [0.72152429],\n",
              "        [0.86765923],\n",
              "        [0.82573086],\n",
              "        [0.85031431],\n",
              "        [0.80811252],\n",
              "        [0.79623059],\n",
              "        [0.83337885],\n",
              "        [0.81016115],\n",
              "        [0.7652282 ],\n",
              "        [0.76454532],\n",
              "        [0.7574435 ],\n",
              "        [0.81617063],\n",
              "        [0.78134408],\n",
              "        [0.77178385],\n",
              "        [0.79267951],\n",
              "        [0.78393887],\n",
              "        [0.71892917],\n",
              "        [0.67945921],\n",
              "        [0.65501247],\n",
              "        [0.59410001],\n",
              "        [0.60161162],\n",
              "        [0.61444951],\n",
              "        [0.58713457],\n",
              "        [0.52526649],\n",
              "        [0.57334072],\n",
              "        [0.54315758],\n",
              "        [0.45438401],\n",
              "        [0.48565982],\n",
              "        [0.47446043],\n",
              "        [0.45151614],\n",
              "        [0.47159256],\n",
              "        [0.46940723],\n",
              "        [0.46571978],\n",
              "        [0.48893748],\n",
              "        [0.48292833],\n",
              "        [0.50423378],\n",
              "        [0.47118277],\n",
              "        [0.46995373],\n",
              "        [0.37844867],\n",
              "        [0.44700911],\n",
              "        [0.40234925],\n",
              "        [0.41955746],\n",
              "        [0.35850863],\n",
              "        [0.36069396],\n",
              "        [0.37298568],\n",
              "        [0.40808531],\n",
              "        [0.41204585],\n",
              "        [0.32518453],\n",
              "        [0.31316589],\n",
              "        [0.37011748],\n",
              "        [0.30592736],\n",
              "        [0.27738338],\n",
              "        [0.17713734],\n",
              "        [0.21305656],\n",
              "        [0.22603115],\n",
              "        [0.26345249],\n",
              "        [0.3100246 ],\n",
              "        [0.36069396],\n",
              "        [0.26973506],\n",
              "        [0.34730957],\n",
              "        [0.32026771],\n",
              "        [0.33501784],\n",
              "        [0.33815913],\n",
              "        [0.34293924],\n",
              "        [0.33351539],\n",
              "        [0.37489759],\n",
              "        [0.38158962],\n",
              "        [0.30319587],\n",
              "        [0.2432397 ],\n",
              "        [0.22384582],\n",
              "        [0.14285729],\n",
              "        [0.16088508],\n",
              "        [0.13397993],\n",
              "        [0.21223697],\n",
              "        [0.22125104],\n",
              "        [0.26399899],\n",
              "        [0.20062812],\n",
              "        [0.28066104],\n",
              "        [0.28066104],\n",
              "        [0.25116077],\n",
              "        [0.18697065],\n",
              "        [0.13944292],\n",
              "        [0.07006289],\n",
              "        [0.        ],\n",
              "        [0.04834732],\n",
              "        [0.041792  ],\n",
              "        [0.12250745],\n",
              "        [0.14039887],\n",
              "        [0.1600655 ],\n",
              "        [0.15542209],\n",
              "        [0.08590536],\n",
              "        [0.11991267],\n",
              "        [0.15555847],\n",
              "        [0.13835025],\n",
              "        [0.19885292],\n",
              "        [0.23108435],\n",
              "        [0.26618399],\n",
              "        [0.28311945],\n",
              "        [0.29732309],\n",
              "        [0.30333258],\n",
              "        [0.54151875],\n",
              "        [0.53482672],\n",
              "        [0.60434312],\n",
              "        [0.67440601],\n",
              "        [0.65569534],\n",
              "        [0.64640819],\n",
              "        [0.64394978],\n",
              "        [0.67030877],\n",
              "        [0.68014208],\n",
              "        [0.65842684],\n",
              "        [0.62919965],\n",
              "        [0.71114448],\n",
              "        [0.79158718],\n",
              "        [0.74542486],\n",
              "        [0.77219331],\n",
              "        [0.81767276],\n",
              "        [0.76604744],\n",
              "        [0.84840207],\n",
              "        [0.83597397],\n",
              "        [0.84799227],\n",
              "        [0.84594365],\n",
              "        [0.85318218],\n",
              "        [0.88705278],\n",
              "        [0.81617063],\n",
              "        [0.71264693],\n",
              "        [0.7624967 ],\n",
              "        [0.8014205 ],\n",
              "        [0.79745963],\n",
              "        [0.74638082],\n",
              "        [0.71592459],\n",
              "        [0.76946181],\n",
              "        [0.81070764],\n",
              "        [0.83296905],\n",
              "        [0.89169618],\n",
              "        [1.        ],\n",
              "        [0.76973523],\n",
              "        [0.7934991 ],\n",
              "        [0.75566797],\n",
              "        [0.84894856],\n",
              "        [0.79527463],\n",
              "        [0.65077852],\n",
              "        [0.61117185],\n",
              "        [0.63152135],\n",
              "        [0.56733123],\n",
              "        [0.59109543],\n",
              "        [0.50600932],\n",
              "        [0.5712921 ],\n",
              "        [0.48156258],\n",
              "        [0.53469001],\n",
              "        [0.53892396],\n",
              "        [0.51311114],\n",
              "        [0.49248856],\n",
              "        [0.47719192],\n",
              "        [0.53660192],\n",
              "        [0.52526649],\n",
              "        [0.54165545],\n",
              "        [0.5345533 ],\n",
              "        [0.58303733],\n",
              "        [0.5916416 ],\n",
              "        [0.6256489 ],\n",
              "        [0.56063921],\n",
              "        [0.5972413 ],\n",
              "        [0.59642172],\n",
              "        [0.6278339 ],\n",
              "        [0.60488928],\n",
              "        [0.60297737],\n",
              "        [0.67959592],\n",
              "        [0.66266045],\n",
              "        [0.70568149],\n",
              "        [0.84307578],\n",
              "        [0.87940446],\n",
              "        [0.68014208],\n",
              "        [0.62073208],\n",
              "        [0.6748158 ],\n",
              "        [0.61595197],\n",
              "        [0.62441953],\n",
              "        [0.5689704 ],\n",
              "        [0.55107898],\n",
              "        [0.47924054],\n",
              "        [0.4780115 ],\n",
              "        [0.51966679],\n",
              "        [0.50068304],\n",
              "        [0.4909861 ],\n",
              "        [0.50054633],\n",
              "        [0.41682597],\n",
              "        [0.39114985],\n",
              "        [0.39838838],\n",
              "        [0.37680951],\n",
              "        [0.32081387],\n",
              "        [0.28011487],\n",
              "        [0.30620045],\n",
              "        [0.31371206],\n",
              "        [0.36001108],\n",
              "        [0.36246916],\n",
              "        [0.35673309],\n",
              "        [0.38814528],\n",
              "        [0.36834194],\n",
              "        [0.34594382],\n",
              "        [0.30183012],\n",
              "        [0.33556401],\n",
              "        [0.31125364],\n",
              "        [0.33542763],\n",
              "        [0.33337901],\n",
              "        [0.38445782],\n",
              "        [0.39592997],\n",
              "        [0.43608313],\n",
              "        [0.44509686],\n",
              "        [0.48169896],\n",
              "        [0.4733681 ],\n",
              "        [0.4524721 ],\n",
              "        [0.40999723],\n",
              "        [0.38568686]]),\n",
              " array([[0.29349893],\n",
              "        [0.29554755],\n",
              "        [0.37189302],\n",
              "        [0.31644355],\n",
              "        [0.31931175],\n",
              "        [0.23204031],\n",
              "        [0.23886904],\n",
              "        [0.21524189],\n",
              "        [0.20158441],\n",
              "        [0.23490851],\n",
              "        [0.2612675 ],\n",
              "        [0.1940728 ],\n",
              "        [0.2945916 ],\n",
              "        [0.33638359],\n",
              "        [0.31576068],\n",
              "        [0.31070748],\n",
              "        [0.27724667],\n",
              "        [0.33679338],\n",
              "        [0.28721669],\n",
              "        [0.24638065],\n",
              "        [0.33146677],\n",
              "        [0.25266322],\n",
              "        [0.21797338],\n",
              "        [0.12728757],\n",
              "        [0.14872973],\n",
              "        [0.18915598],\n",
              "        [0.24897577],\n",
              "        [0.20800336],\n",
              "        [0.24433203],\n",
              "        [0.23217702],\n",
              "        [0.25116077],\n",
              "        [0.28134391],\n",
              "        [0.26768644],\n",
              "        [0.26413537],\n",
              "        [0.26550111],\n",
              "        [0.27301272],\n",
              "        [0.33119368],\n",
              "        [0.34034413],\n",
              "        [0.3178093 ],\n",
              "        [0.33406189],\n",
              "        [0.32491111],\n",
              "        [0.26604761],\n",
              "        [0.24870269],\n",
              "        [0.26154058],\n",
              "        [0.25676046],\n",
              "        [0.28735307],\n",
              "        [0.29281606],\n",
              "        [0.27929529],\n",
              "        [0.46517361],\n",
              "        [0.49221514],\n",
              "        [0.4729583 ],\n",
              "        [0.48784482],\n",
              "        [0.51953008],\n",
              "        [0.53482672],\n",
              "        [0.48101608],\n",
              "        [0.48606928],\n",
              "        [0.56159516],\n",
              "        [0.55271781],\n",
              "        [0.54274778],\n",
              "        [0.54165545],\n",
              "        [0.48688886],\n",
              "        [0.55845388],\n",
              "        [0.57975967],\n",
              "        [0.65173448],\n",
              "        [0.69407264],\n",
              "        [0.74597103],\n",
              "        [0.70977873],\n",
              "        [0.71264693],\n",
              "        [0.5921881 ],\n",
              "        [0.5945098 ],\n",
              "        [0.58822723],\n",
              "        [0.54452332],\n",
              "        [0.4857962 ],\n",
              "        [0.48729865],\n",
              "        [0.47131948],\n",
              "        [0.47691884],\n",
              "        [0.50532645],\n",
              "        [0.55517622],\n",
              "        [0.54561599],\n",
              "        [0.35891842],\n",
              "        [0.35236277],\n",
              "        [0.31699005],\n",
              "        [0.3721661 ],\n",
              "        [0.38336516],\n",
              "        [0.32818911],\n",
              "        [0.47705555],\n",
              "        [0.47896746],\n",
              "        [0.48347449],\n",
              "        [0.47664576],\n",
              "        [0.47719192],\n",
              "        [0.43731217],\n",
              "        [0.37899484],\n",
              "        [0.39429114],\n",
              "        [0.22248008],\n",
              "        [0.25730663],\n",
              "        [0.16744073],\n",
              "        [0.24282991],\n",
              "        [0.27506134],\n",
              "        [0.24856598],\n",
              "        [0.23764   ],\n",
              "        [0.22712382],\n",
              "        [0.31207322],\n",
              "        [0.26727665],\n",
              "        [0.20895931],\n",
              "        [0.20691069],\n",
              "        [0.15856338],\n",
              "        [0.15979242],\n",
              "        [0.09655826],\n",
              "        [0.11253743],\n",
              "        [0.21701709],\n",
              "        [0.21565134],\n",
              "        [0.18423916],\n",
              "        [0.30456162],\n",
              "        [0.27260327],\n",
              "        [0.2223437 ],\n",
              "        [0.19694067],\n",
              "        [0.22207062],\n",
              "        [0.25717025],\n",
              "        [0.2459712 ],\n",
              "        [0.24487853],\n",
              "        [0.27697359],\n",
              "        [0.31999462],\n",
              "        [0.33843221],\n",
              "        [0.35004106],\n",
              "        [0.28803594],\n",
              "        [0.34785573],\n",
              "        [0.37489759]]))"
            ]
          },
          "metadata": {},
          "execution_count": 11
        }
      ]
    },
    {
      "cell_type": "code",
      "source": [
        "train_data.shape,test_data.shape"
      ],
      "metadata": {
        "colab": {
          "base_uri": "https://localhost:8080/"
        },
        "id": "8xgAwy6y4lLS",
        "outputId": "f2a16bde-fdf5-43a1-c80d-ce01e417a5e1"
      },
      "execution_count": null,
      "outputs": [
        {
          "output_type": "execute_result",
          "data": {
            "text/plain": [
              "((235, 1), (127, 1))"
            ]
          },
          "metadata": {},
          "execution_count": 12
        }
      ]
    },
    {
      "cell_type": "code",
      "source": [
        "# Create the features for the LSTM model\n",
        "def create_lstm_dataset(dataset, timestep):\n",
        "  dataX, dataY = [],[]\n",
        "  for i in range(len(dataset)-timestep-1):\n",
        "    a = train_data[i:(i+timestep),0]\n",
        "    dataX.append(a)\n",
        "    dataY.append(dataset[i+timestep,0])\n",
        "  return np.array(dataX), np.array(dataY)"
      ],
      "metadata": {
        "id": "kJYGG4Q8rWUN"
      },
      "execution_count": null,
      "outputs": []
    },
    {
      "cell_type": "code",
      "source": [
        "#Timestep initiation and creating training and testing data by calling the function\n",
        "timestep = 100\n",
        "X_train, Y_train = create_lstm_dataset(train_data,timestep)\n",
        "X_test, Y_test = create_lstm_dataset(test_data,timestep)\n",
        "X_test"
      ],
      "metadata": {
        "id": "dAy9d7exxU_T",
        "colab": {
          "base_uri": "https://localhost:8080/"
        },
        "outputId": "55b5db52-9cc6-48f1-ec67-9de672024a04"
      },
      "execution_count": null,
      "outputs": [
        {
          "output_type": "execute_result",
          "data": {
            "text/plain": [
              "array([[0.38145325, 0.44236537, 0.4186015 , ..., 0.22125104, 0.26399899,\n",
              "        0.20062812],\n",
              "       [0.44236537, 0.4186015 , 0.50737507, ..., 0.26399899, 0.20062812,\n",
              "        0.28066104],\n",
              "       [0.4186015 , 0.50737507, 0.57334072, ..., 0.20062812, 0.28066104,\n",
              "        0.28066104],\n",
              "       ...,\n",
              "       [0.72152429, 0.86765923, 0.82573086, ..., 0.28311945, 0.29732309,\n",
              "        0.30333258],\n",
              "       [0.86765923, 0.82573086, 0.85031431, ..., 0.29732309, 0.30333258,\n",
              "        0.54151875],\n",
              "       [0.82573086, 0.85031431, 0.80811252, ..., 0.30333258, 0.54151875,\n",
              "        0.53482672]])"
            ]
          },
          "metadata": {},
          "execution_count": 24
        }
      ]
    },
    {
      "cell_type": "code",
      "source": [
        "X_train.shape, Y_train.shape, X_test.shape, Y_test.shape"
      ],
      "metadata": {
        "colab": {
          "base_uri": "https://localhost:8080/"
        },
        "id": "oVxh-FjT3Slt",
        "outputId": "394f7af6-afac-40f3-affe-0282261f74a5"
      },
      "execution_count": null,
      "outputs": [
        {
          "output_type": "execute_result",
          "data": {
            "text/plain": [
              "((134, 100), (134,), (26, 100), (26,))"
            ]
          },
          "metadata": {},
          "execution_count": 15
        }
      ]
    },
    {
      "cell_type": "code",
      "source": [
        "# Reshape X_train and Y_train for the LSTM model\n",
        "X_train = X_train.reshape(X_train.shape[0],X_train.shape[1],1)\n",
        "X_test = X_test.reshape(X_test.shape[0],X_test.shape[1],1)\n"
      ],
      "metadata": {
        "id": "w2QqyBQE4dsG"
      },
      "execution_count": null,
      "outputs": []
    },
    {
      "cell_type": "code",
      "source": [
        "X_train.shape[1]"
      ],
      "metadata": {
        "colab": {
          "base_uri": "https://localhost:8080/"
        },
        "id": "0TVTwxBt9-zK",
        "outputId": "26c1add2-4242-46a7-bc10-6ee21148858e"
      },
      "execution_count": null,
      "outputs": [
        {
          "output_type": "execute_result",
          "data": {
            "text/plain": [
              "100"
            ]
          },
          "metadata": {},
          "execution_count": 17
        }
      ]
    },
    {
      "cell_type": "code",
      "source": [
        "#Create stacked LSTM model\n",
        "from tensorflow.keras.models import Sequential\n",
        "from tensorflow.keras.layers import Dense\n",
        "from tensorflow.keras.layers import LSTM\n",
        "\n",
        "model = Sequential()\n",
        "model.add(LSTM(50,return_sequences=True,input_shape=(100,1)))\n",
        "model.add(LSTM(50,return_sequences=True))\n",
        "model.add(LSTM(50))\n",
        "model.add(Dense(1))\n",
        "model.compile(loss='mean_squared_error',optimizer='adam')"
      ],
      "metadata": {
        "id": "eO6DSQq-6ywd"
      },
      "execution_count": null,
      "outputs": []
    },
    {
      "cell_type": "code",
      "source": [
        "model.summary()"
      ],
      "metadata": {
        "colab": {
          "base_uri": "https://localhost:8080/"
        },
        "id": "kYcx-vmS76SD",
        "outputId": "a5569345-0537-4fbe-991f-6c64e3408c08"
      },
      "execution_count": null,
      "outputs": [
        {
          "output_type": "stream",
          "name": "stdout",
          "text": [
            "Model: \"sequential\"\n",
            "_________________________________________________________________\n",
            " Layer (type)                Output Shape              Param #   \n",
            "=================================================================\n",
            " lstm (LSTM)                 (None, 100, 50)           10400     \n",
            "                                                                 \n",
            " lstm_1 (LSTM)               (None, 100, 50)           20200     \n",
            "                                                                 \n",
            " lstm_2 (LSTM)               (None, 50)                20200     \n",
            "                                                                 \n",
            " dense (Dense)               (None, 1)                 51        \n",
            "                                                                 \n",
            "=================================================================\n",
            "Total params: 50851 (198.64 KB)\n",
            "Trainable params: 50851 (198.64 KB)\n",
            "Non-trainable params: 0 (0.00 Byte)\n",
            "_________________________________________________________________\n"
          ]
        }
      ]
    },
    {
      "cell_type": "code",
      "source": [
        "model.fit(X_train,Y_train, validation_data=(X_test,Y_test),epochs=100,batch_size=64,verbose=1)"
      ],
      "metadata": {
        "colab": {
          "base_uri": "https://localhost:8080/"
        },
        "id": "sh-nTwko8Fa2",
        "outputId": "b22b3847-3b3f-433b-9667-629473e4c47e"
      },
      "execution_count": null,
      "outputs": [
        {
          "output_type": "stream",
          "name": "stdout",
          "text": [
            "Epoch 1/100\n",
            "3/3 [==============================] - 10s 804ms/step - loss: 0.3039 - val_loss: 0.0198\n",
            "Epoch 2/100\n",
            "3/3 [==============================] - 0s 42ms/step - loss: 0.1149 - val_loss: 0.0128\n",
            "Epoch 3/100\n",
            "3/3 [==============================] - 0s 49ms/step - loss: 0.0442 - val_loss: 0.0445\n",
            "Epoch 4/100\n",
            "3/3 [==============================] - 0s 48ms/step - loss: 0.0556 - val_loss: 0.0169\n",
            "Epoch 5/100\n",
            "3/3 [==============================] - 0s 51ms/step - loss: 0.0293 - val_loss: 0.0088\n",
            "Epoch 6/100\n",
            "3/3 [==============================] - 0s 51ms/step - loss: 0.0316 - val_loss: 0.0077\n",
            "Epoch 7/100\n",
            "3/3 [==============================] - 0s 45ms/step - loss: 0.0315 - val_loss: 0.0107\n",
            "Epoch 8/100\n",
            "3/3 [==============================] - 0s 51ms/step - loss: 0.0256 - val_loss: 0.0181\n",
            "Epoch 9/100\n",
            "3/3 [==============================] - 0s 47ms/step - loss: 0.0265 - val_loss: 0.0228\n",
            "Epoch 10/100\n",
            "3/3 [==============================] - 0s 43ms/step - loss: 0.0281 - val_loss: 0.0166\n",
            "Epoch 11/100\n",
            "3/3 [==============================] - 0s 53ms/step - loss: 0.0235 - val_loss: 0.0101\n",
            "Epoch 12/100\n",
            "3/3 [==============================] - 0s 50ms/step - loss: 0.0231 - val_loss: 0.0097\n",
            "Epoch 13/100\n",
            "3/3 [==============================] - 0s 48ms/step - loss: 0.0215 - val_loss: 0.0129\n",
            "Epoch 14/100\n",
            "3/3 [==============================] - 0s 48ms/step - loss: 0.0206 - val_loss: 0.0123\n",
            "Epoch 15/100\n",
            "3/3 [==============================] - 0s 40ms/step - loss: 0.0195 - val_loss: 0.0089\n",
            "Epoch 16/100\n",
            "3/3 [==============================] - 0s 40ms/step - loss: 0.0191 - val_loss: 0.0074\n",
            "Epoch 17/100\n",
            "3/3 [==============================] - 0s 34ms/step - loss: 0.0183 - val_loss: 0.0099\n",
            "Epoch 18/100\n",
            "3/3 [==============================] - 0s 43ms/step - loss: 0.0184 - val_loss: 0.0126\n",
            "Epoch 19/100\n",
            "3/3 [==============================] - 0s 35ms/step - loss: 0.0182 - val_loss: 0.0082\n",
            "Epoch 20/100\n",
            "3/3 [==============================] - 0s 33ms/step - loss: 0.0151 - val_loss: 0.0063\n",
            "Epoch 21/100\n",
            "3/3 [==============================] - 0s 33ms/step - loss: 0.0158 - val_loss: 0.0068\n",
            "Epoch 22/100\n",
            "3/3 [==============================] - 0s 35ms/step - loss: 0.0143 - val_loss: 0.0083\n",
            "Epoch 23/100\n",
            "3/3 [==============================] - 0s 39ms/step - loss: 0.0140 - val_loss: 0.0070\n",
            "Epoch 24/100\n",
            "3/3 [==============================] - 0s 37ms/step - loss: 0.0128 - val_loss: 0.0060\n",
            "Epoch 25/100\n",
            "3/3 [==============================] - 0s 37ms/step - loss: 0.0136 - val_loss: 0.0056\n",
            "Epoch 26/100\n",
            "3/3 [==============================] - 0s 37ms/step - loss: 0.0142 - val_loss: 0.0068\n",
            "Epoch 27/100\n",
            "3/3 [==============================] - 0s 33ms/step - loss: 0.0131 - val_loss: 0.0091\n",
            "Epoch 28/100\n",
            "3/3 [==============================] - 0s 35ms/step - loss: 0.0150 - val_loss: 0.0062\n",
            "Epoch 29/100\n",
            "3/3 [==============================] - 0s 37ms/step - loss: 0.0127 - val_loss: 0.0053\n",
            "Epoch 30/100\n",
            "3/3 [==============================] - 0s 39ms/step - loss: 0.0133 - val_loss: 0.0059\n",
            "Epoch 31/100\n",
            "3/3 [==============================] - 0s 34ms/step - loss: 0.0118 - val_loss: 0.0065\n",
            "Epoch 32/100\n",
            "3/3 [==============================] - 0s 33ms/step - loss: 0.0117 - val_loss: 0.0069\n",
            "Epoch 33/100\n",
            "3/3 [==============================] - 0s 32ms/step - loss: 0.0122 - val_loss: 0.0067\n",
            "Epoch 34/100\n",
            "3/3 [==============================] - 0s 32ms/step - loss: 0.0113 - val_loss: 0.0052\n",
            "Epoch 35/100\n",
            "3/3 [==============================] - 0s 33ms/step - loss: 0.0123 - val_loss: 0.0055\n",
            "Epoch 36/100\n",
            "3/3 [==============================] - 0s 32ms/step - loss: 0.0110 - val_loss: 0.0066\n",
            "Epoch 37/100\n",
            "3/3 [==============================] - 0s 33ms/step - loss: 0.0114 - val_loss: 0.0062\n",
            "Epoch 38/100\n",
            "3/3 [==============================] - 0s 30ms/step - loss: 0.0110 - val_loss: 0.0054\n",
            "Epoch 39/100\n",
            "3/3 [==============================] - 0s 27ms/step - loss: 0.0107 - val_loss: 0.0052\n",
            "Epoch 40/100\n",
            "3/3 [==============================] - 0s 28ms/step - loss: 0.0115 - val_loss: 0.0053\n",
            "Epoch 41/100\n",
            "3/3 [==============================] - 0s 28ms/step - loss: 0.0104 - val_loss: 0.0059\n",
            "Epoch 42/100\n",
            "3/3 [==============================] - 0s 29ms/step - loss: 0.0122 - val_loss: 0.0054\n",
            "Epoch 43/100\n",
            "3/3 [==============================] - 0s 27ms/step - loss: 0.0098 - val_loss: 0.0054\n",
            "Epoch 44/100\n",
            "3/3 [==============================] - 0s 25ms/step - loss: 0.0150 - val_loss: 0.0054\n",
            "Epoch 45/100\n",
            "3/3 [==============================] - 0s 26ms/step - loss: 0.0134 - val_loss: 0.0057\n",
            "Epoch 46/100\n",
            "3/3 [==============================] - 0s 28ms/step - loss: 0.0106 - val_loss: 0.0067\n",
            "Epoch 47/100\n",
            "3/3 [==============================] - 0s 32ms/step - loss: 0.0125 - val_loss: 0.0052\n",
            "Epoch 48/100\n",
            "3/3 [==============================] - 0s 27ms/step - loss: 0.0111 - val_loss: 0.0051\n",
            "Epoch 49/100\n",
            "3/3 [==============================] - 0s 26ms/step - loss: 0.0121 - val_loss: 0.0056\n",
            "Epoch 50/100\n",
            "3/3 [==============================] - 0s 28ms/step - loss: 0.0099 - val_loss: 0.0062\n",
            "Epoch 51/100\n",
            "3/3 [==============================] - 0s 29ms/step - loss: 0.0103 - val_loss: 0.0056\n",
            "Epoch 52/100\n",
            "3/3 [==============================] - 0s 32ms/step - loss: 0.0096 - val_loss: 0.0050\n",
            "Epoch 53/100\n",
            "3/3 [==============================] - 0s 32ms/step - loss: 0.0113 - val_loss: 0.0051\n",
            "Epoch 54/100\n",
            "3/3 [==============================] - 0s 37ms/step - loss: 0.0097 - val_loss: 0.0067\n",
            "Epoch 55/100\n",
            "3/3 [==============================] - 0s 25ms/step - loss: 0.0127 - val_loss: 0.0061\n",
            "Epoch 56/100\n",
            "3/3 [==============================] - 0s 25ms/step - loss: 0.0094 - val_loss: 0.0051\n",
            "Epoch 57/100\n",
            "3/3 [==============================] - 0s 25ms/step - loss: 0.0138 - val_loss: 0.0051\n",
            "Epoch 58/100\n",
            "3/3 [==============================] - 0s 26ms/step - loss: 0.0120 - val_loss: 0.0058\n",
            "Epoch 59/100\n",
            "3/3 [==============================] - 0s 28ms/step - loss: 0.0101 - val_loss: 0.0069\n",
            "Epoch 60/100\n",
            "3/3 [==============================] - 0s 27ms/step - loss: 0.0112 - val_loss: 0.0054\n",
            "Epoch 61/100\n",
            "3/3 [==============================] - 0s 27ms/step - loss: 0.0094 - val_loss: 0.0052\n",
            "Epoch 62/100\n",
            "3/3 [==============================] - 0s 27ms/step - loss: 0.0106 - val_loss: 0.0055\n",
            "Epoch 63/100\n",
            "3/3 [==============================] - 0s 28ms/step - loss: 0.0094 - val_loss: 0.0060\n",
            "Epoch 64/100\n",
            "3/3 [==============================] - 0s 29ms/step - loss: 0.0097 - val_loss: 0.0055\n",
            "Epoch 65/100\n",
            "3/3 [==============================] - 0s 33ms/step - loss: 0.0092 - val_loss: 0.0056\n",
            "Epoch 66/100\n",
            "3/3 [==============================] - 0s 27ms/step - loss: 0.0104 - val_loss: 0.0056\n",
            "Epoch 67/100\n",
            "3/3 [==============================] - 0s 29ms/step - loss: 0.0091 - val_loss: 0.0059\n",
            "Epoch 68/100\n",
            "3/3 [==============================] - 0s 27ms/step - loss: 0.0103 - val_loss: 0.0060\n",
            "Epoch 69/100\n",
            "3/3 [==============================] - 0s 26ms/step - loss: 0.0094 - val_loss: 0.0057\n",
            "Epoch 70/100\n",
            "3/3 [==============================] - 0s 25ms/step - loss: 0.0105 - val_loss: 0.0058\n",
            "Epoch 71/100\n",
            "3/3 [==============================] - 0s 25ms/step - loss: 0.0097 - val_loss: 0.0060\n",
            "Epoch 72/100\n",
            "3/3 [==============================] - 0s 26ms/step - loss: 0.0100 - val_loss: 0.0063\n",
            "Epoch 73/100\n",
            "3/3 [==============================] - 0s 26ms/step - loss: 0.0098 - val_loss: 0.0057\n",
            "Epoch 74/100\n",
            "3/3 [==============================] - 0s 26ms/step - loss: 0.0098 - val_loss: 0.0059\n",
            "Epoch 75/100\n",
            "3/3 [==============================] - 0s 30ms/step - loss: 0.0109 - val_loss: 0.0057\n",
            "Epoch 76/100\n",
            "3/3 [==============================] - 0s 26ms/step - loss: 0.0084 - val_loss: 0.0063\n",
            "Epoch 77/100\n",
            "3/3 [==============================] - 0s 26ms/step - loss: 0.0102 - val_loss: 0.0059\n",
            "Epoch 78/100\n",
            "3/3 [==============================] - 0s 32ms/step - loss: 0.0090 - val_loss: 0.0061\n",
            "Epoch 79/100\n",
            "3/3 [==============================] - 0s 32ms/step - loss: 0.0104 - val_loss: 0.0059\n",
            "Epoch 80/100\n",
            "3/3 [==============================] - 0s 28ms/step - loss: 0.0088 - val_loss: 0.0063\n",
            "Epoch 81/100\n",
            "3/3 [==============================] - 0s 31ms/step - loss: 0.0093 - val_loss: 0.0061\n",
            "Epoch 82/100\n",
            "3/3 [==============================] - 0s 26ms/step - loss: 0.0093 - val_loss: 0.0063\n",
            "Epoch 83/100\n",
            "3/3 [==============================] - 0s 25ms/step - loss: 0.0093 - val_loss: 0.0061\n",
            "Epoch 84/100\n",
            "3/3 [==============================] - 0s 25ms/step - loss: 0.0095 - val_loss: 0.0065\n",
            "Epoch 85/100\n",
            "3/3 [==============================] - 0s 26ms/step - loss: 0.0107 - val_loss: 0.0061\n",
            "Epoch 86/100\n",
            "3/3 [==============================] - 0s 26ms/step - loss: 0.0089 - val_loss: 0.0063\n",
            "Epoch 87/100\n",
            "3/3 [==============================] - 0s 26ms/step - loss: 0.0085 - val_loss: 0.0063\n",
            "Epoch 88/100\n",
            "3/3 [==============================] - 0s 26ms/step - loss: 0.0085 - val_loss: 0.0064\n",
            "Epoch 89/100\n",
            "3/3 [==============================] - 0s 26ms/step - loss: 0.0086 - val_loss: 0.0065\n",
            "Epoch 90/100\n",
            "3/3 [==============================] - 0s 28ms/step - loss: 0.0087 - val_loss: 0.0064\n",
            "Epoch 91/100\n",
            "3/3 [==============================] - 0s 38ms/step - loss: 0.0082 - val_loss: 0.0067\n",
            "Epoch 92/100\n",
            "3/3 [==============================] - 0s 32ms/step - loss: 0.0106 - val_loss: 0.0067\n",
            "Epoch 93/100\n",
            "3/3 [==============================] - 0s 26ms/step - loss: 0.0095 - val_loss: 0.0066\n",
            "Epoch 94/100\n",
            "3/3 [==============================] - 0s 26ms/step - loss: 0.0080 - val_loss: 0.0069\n",
            "Epoch 95/100\n",
            "3/3 [==============================] - 0s 30ms/step - loss: 0.0082 - val_loss: 0.0070\n",
            "Epoch 96/100\n",
            "3/3 [==============================] - 0s 26ms/step - loss: 0.0080 - val_loss: 0.0069\n",
            "Epoch 97/100\n",
            "3/3 [==============================] - 0s 25ms/step - loss: 0.0080 - val_loss: 0.0069\n",
            "Epoch 98/100\n",
            "3/3 [==============================] - 0s 26ms/step - loss: 0.0080 - val_loss: 0.0069\n",
            "Epoch 99/100\n",
            "3/3 [==============================] - 0s 26ms/step - loss: 0.0080 - val_loss: 0.0068\n",
            "Epoch 100/100\n",
            "3/3 [==============================] - 0s 26ms/step - loss: 0.0079 - val_loss: 0.0068\n"
          ]
        },
        {
          "output_type": "execute_result",
          "data": {
            "text/plain": [
              "<keras.src.callbacks.History at 0x7bdcb00fb3d0>"
            ]
          },
          "metadata": {},
          "execution_count": 20
        }
      ]
    },
    {
      "cell_type": "code",
      "source": [
        "#Check the predictions for the train and test data\n",
        "#train_predict=model.predict(X_train)\n",
        "#test_predict=model.predict(X_test)"
      ],
      "metadata": {
        "id": "Iysxh_L78bhI"
      },
      "execution_count": null,
      "outputs": []
    },
    {
      "cell_type": "code",
      "source": [
        "y_pred= model.predict(X_test)\n"
      ],
      "metadata": {
        "colab": {
          "base_uri": "https://localhost:8080/"
        },
        "id": "_supvPV3oKfH",
        "outputId": "35a91675-8dc9-49bb-9bfc-09e43c8d161c"
      },
      "execution_count": null,
      "outputs": [
        {
          "output_type": "stream",
          "name": "stdout",
          "text": [
            "1/1 [==============================] - 1s 945ms/step\n"
          ]
        }
      ]
    },
    {
      "cell_type": "code",
      "source": [
        "plt.plot(Y_test, label='True Value')\n",
        "plt.plot(y_pred, label='LSTM Value')\n",
        "plt.title(\"Prediction by LSTM\")\n",
        "plt.xlabel('Time Scale')\n",
        "plt.ylabel('Scaled USD')\n",
        "plt.legend()\n",
        "plt.show()"
      ],
      "metadata": {
        "colab": {
          "base_uri": "https://localhost:8080/",
          "height": 472
        },
        "id": "N_hhk4crqXTc",
        "outputId": "9c76c7b3-e9b3-440b-f123-5698b67b8ee8"
      },
      "execution_count": null,
      "outputs": [
        {
          "output_type": "display_data",
          "data": {
            "text/plain": [
              "<Figure size 640x480 with 1 Axes>"
            ],
            "image/png": "[encoded data removed]"
          },
          "metadata": {}
        }
      ]
    }
  ]
}